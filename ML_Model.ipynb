{
 "cells": [
  {
   "cell_type": "code",
   "execution_count": 1,
   "metadata": {},
   "outputs": [],
   "source": [
    "# Code block imports and defines libraries used\n",
    "import pandas as pd\n",
    "import numpy as np\n",
    "from sklearn.model_selection import train_test_split\n",
    "from sklearn.neighbors import KNeighborsClassifier\n",
    "from sklearn.metrics import accuracy_score, mean_squared_error, r2_score\n",
    "from sklearn.impute import SimpleImputer\n",
    "from sklearn.ensemble import RandomForestClassifier, StackingClassifier\n",
    "from sklearn.naive_bayes import BernoulliNB\n",
    "from sklearn.linear_model import LogisticRegression\n",
    "from sklearn.utils import resample\n",
    "from sklearn.model_selection import cross_val_score, StratifiedKFold\n",
    "from sklearn.linear_model import LogisticRegression\n",
    "from sklearn.preprocessing import StandardScaler\n",
    "from sklearn.metrics import precision_score, recall_score, f1_score, roc_auc_score, confusion_matrix\n",
    "from imblearn.over_sampling import SMOTE"
   ]
  },
  {
   "cell_type": "markdown",
   "metadata": {},
   "source": [
    "Commented out code below controls whether the models created are baseline or age specific"
   ]
  },
  {
   "cell_type": "code",
   "execution_count": 3,
   "metadata": {},
   "outputs": [
    {
     "name": "stderr",
     "output_type": "stream",
     "text": [
      "C:\\Users\\Caleb\\AppData\\Local\\Temp\\ipykernel_63996\\1567408143.py:4: FutureWarning: Downcasting behavior in `replace` is deprecated and will be removed in a future version. To retain the old behavior, explicitly call `result.infer_objects(copy=False)`. To opt-in to the future behavior, set `pd.set_option('future.no_silent_downcasting', True)`\n",
      "  df['gender'] = df['gender'].replace({'Male': 0, 'Female': 1, 'Other': -1}).astype(np.uint8)\n",
      "C:\\Users\\Caleb\\AppData\\Local\\Temp\\ipykernel_63996\\1567408143.py:5: FutureWarning: Downcasting behavior in `replace` is deprecated and will be removed in a future version. To retain the old behavior, explicitly call `result.infer_objects(copy=False)`. To opt-in to the future behavior, set `pd.set_option('future.no_silent_downcasting', True)`\n",
      "  df['Residence_type'] = df['Residence_type'].replace({'Rural': 0, 'Urban': 1}).astype(np.uint8)\n",
      "C:\\Users\\Caleb\\AppData\\Local\\Temp\\ipykernel_63996\\1567408143.py:6: FutureWarning: Downcasting behavior in `replace` is deprecated and will be removed in a future version. To retain the old behavior, explicitly call `result.infer_objects(copy=False)`. To opt-in to the future behavior, set `pd.set_option('future.no_silent_downcasting', True)`\n",
      "  df['work_type'] = df['work_type'].replace({'Private': 0, 'Self-employed': 1, 'Govt_job': 2, 'children': -1, 'Never_worked': -2}).astype(np.uint8)\n"
     ]
    }
   ],
   "source": [
    "# Code Block cleans and pre-processes the dataset preparing it for training\n",
    "df = pd.read_csv('stroke.csv')\n",
    "\n",
    "df['gender'] = df['gender'].replace({'Male': 0, 'Female': 1, 'Other': -1}).astype(np.uint8)\n",
    "df['Residence_type'] = df['Residence_type'].replace({'Rural': 0, 'Urban': 1}).astype(np.uint8)\n",
    "df['work_type'] = df['work_type'].replace({'Private': 0, 'Self-employed': 1, 'Govt_job': 2, 'children': -1, 'Never_worked': -2}).astype(np.uint8)\n",
    "df = pd.get_dummies(df, drop_first=True)\n",
    "\n",
    "# Controls whether the models created will be for over 60s, under 60s or baseline\n",
    "# Comment out both for baseline or 1 for the desired age group\n",
    "df = df[df.age < 60]\n",
    "# df = df[df.age >= 60]\n",
    "\n",
    "X = df.drop('stroke', axis=1)\n",
    "y = df['stroke']\n",
    "\n",
    "imputer = SimpleImputer(strategy='mean')\n",
    "X = imputer.fit_transform(X)\n",
    "\n",
    "scaler = StandardScaler()\n",
    "X = scaler.fit_transform(X)\n",
    "\n",
    "smote = SMOTE(random_state=42)\n",
    "X_resampled, y_resampled = smote.fit_resample(X, y)"
   ]
  },
  {
   "cell_type": "code",
   "execution_count": 4,
   "metadata": {},
   "outputs": [
    {
     "name": "stdout",
     "output_type": "stream",
     "text": [
      "Logistic Regression\n",
      "LR Mean accuracy score: 0.774007054703244\n",
      "Precision: 0.7472527472527473\n",
      "Recall: 0.8346972176759411\n",
      "F1 Score: 0.7885581754928489\n"
     ]
    }
   ],
   "source": [
    "# Creates logistic regression model\n",
    "model = LogisticRegression(max_iter=1000, random_state=42)\n",
    "cv = StratifiedKFold(n_splits=5)\n",
    "\n",
    "scores = cross_val_score(model, X_resampled, y_resampled, cv=cv, scoring='accuracy')\n",
    "y_pred = model.fit(X_resampled, y_resampled).predict(X_resampled)\n",
    "\n",
    "precision = precision_score(y_resampled, y_pred)\n",
    "recall = recall_score(y_resampled, y_pred)\n",
    "f1 = f1_score(y_resampled, y_pred)\n",
    "roc_auc = roc_auc_score(y_resampled, y_pred)\n",
    "conf_matrix = confusion_matrix(y_resampled, y_pred)\n",
    "\n",
    "\n",
    "print(\"Logistic Regression\")\n",
    "print(\"LR Mean accuracy score:\", np.mean(scores))\n",
    "print(\"Precision:\", precision)\n",
    "print(\"Recall:\", recall)\n",
    "print(\"F1 Score:\", f1)\n",
    "\n",
    "\n",
    "\n"
   ]
  },
  {
   "cell_type": "code",
   "execution_count": 5,
   "metadata": {},
   "outputs": [
    {
     "name": "stdout",
     "output_type": "stream",
     "text": [
      "KNeighborsClassifier\n",
      "KNN Mean accuracy score: 0.9545826277235145\n",
      "Precision: 0.9584096259482082\n",
      "Recall: 0.9994544462629569\n",
      "F1 Score: 0.9785018026438776\n"
     ]
    }
   ],
   "source": [
    "# Creates K Nearest Neighbours model\n",
    "model = KNeighborsClassifier(3)\n",
    "cv = StratifiedKFold(n_splits=5)\n",
    "\n",
    "\n",
    "scores = cross_val_score(model, X_resampled, y_resampled, cv=cv, scoring='accuracy')\n",
    "y_pred = model.fit(X_resampled, y_resampled).predict(X_resampled)\n",
    "\n",
    "\n",
    "precision = precision_score(y_resampled, y_pred)\n",
    "recall = recall_score(y_resampled, y_pred)\n",
    "f1 = f1_score(y_resampled, y_pred)\n",
    "roc_auc = roc_auc_score(y_resampled, y_pred)\n",
    "conf_matrix = confusion_matrix(y_resampled, y_pred)\n",
    "\n",
    "\n",
    "print(\"KNeighborsClassifier\")\n",
    "print(\"KNN Mean accuracy score:\", np.mean(scores))\n",
    "print(\"Precision:\", precision)\n",
    "print(\"Recall:\", recall)\n",
    "print(\"F1 Score:\", f1)"
   ]
  },
  {
   "cell_type": "code",
   "execution_count": 6,
   "metadata": {},
   "outputs": [
    {
     "name": "stdout",
     "output_type": "stream",
     "text": [
      "Random Forest\n",
      "RF Mean accuracy score: 0.8278806782409927\n",
      "Precision: 0.7821020741085994\n",
      "Recall: 0.9154391707583197\n",
      "F1 Score: 0.8435339952243308\n"
     ]
    }
   ],
   "source": [
    "# Creates Random Forest model\n",
    "model = RandomForestClassifier(max_depth=2, random_state=0)\n",
    "cv = StratifiedKFold(n_splits=5)\n",
    "\n",
    "scores = cross_val_score(model, X_resampled, y_resampled, cv=cv, scoring='accuracy')\n",
    "y_pred = model.fit(X_resampled, y_resampled).predict(X_resampled)\n",
    "\n",
    "\n",
    "precision = precision_score(y_resampled, y_pred)\n",
    "recall = recall_score(y_resampled, y_pred)\n",
    "f1 = f1_score(y_resampled, y_pred)\n",
    "roc_auc = roc_auc_score(y_resampled, y_pred)\n",
    "conf_matrix = confusion_matrix(y_resampled, y_pred)\n",
    "\n",
    "print(\"Random Forest\")\n",
    "print(\"RF Mean accuracy score:\", np.mean(scores))\n",
    "print(\"Precision:\", precision)\n",
    "print(\"Recall:\", recall)\n",
    "print(\"F1 Score:\", f1)"
   ]
  },
  {
   "cell_type": "code",
   "execution_count": 7,
   "metadata": {},
   "outputs": [
    {
     "name": "stdout",
     "output_type": "stream",
     "text": [
      "BernoulliNB\n",
      "BNB Mean accuracy score: 0.7092204952799701\n",
      "Precision: 0.6685058485985433\n",
      "Recall: 0.8262411347517731\n",
      "F1 Score: 0.7390508722703428\n"
     ]
    }
   ],
   "source": [
    "# Creates Bernoulli Naive Bayes model\n",
    "model = BernoulliNB()\n",
    "cv = StratifiedKFold(n_splits=5)\n",
    "\n",
    "scores = cross_val_score(model, X_resampled, y_resampled, cv=cv, scoring='accuracy')\n",
    "y_pred = model.fit(X_resampled, y_resampled).predict(X_resampled)\n",
    "\n",
    "precision = precision_score(y_resampled, y_pred)\n",
    "recall = recall_score(y_resampled, y_pred)\n",
    "f1 = f1_score(y_resampled, y_pred)\n",
    "roc_auc = roc_auc_score(y_resampled, y_pred)\n",
    "conf_matrix = confusion_matrix(y_resampled, y_pred)\n",
    "\n",
    "print(\"BernoulliNB\")\n",
    "print(\"BNB Mean accuracy score:\", np.mean(scores))\n",
    "print(\"Precision:\", precision)\n",
    "print(\"Recall:\", recall)\n",
    "print(\"F1 Score:\", f1)"
   ]
  },
  {
   "cell_type": "code",
   "execution_count": 9,
   "metadata": {},
   "outputs": [
    {
     "name": "stdout",
     "output_type": "stream",
     "text": [
      "Stacked Ensemble\n",
      "Stacking Mean accuracy score: 0.9687675472491213\n",
      "Precision: 0.9948285247686446\n",
      "Recall: 0.9969994544462629\n",
      "F1 Score: 0.9959128065395095\n"
     ]
    }
   ],
   "source": [
    "# Creates Stacked Ensemble Model\n",
    "knn = KNeighborsClassifier(n_neighbors=3)\n",
    "rf = RandomForestClassifier(max_depth=2, random_state=0)\n",
    "nb = BernoulliNB()\n",
    "meta_model = LogisticRegression(max_iter=1000, random_state=42)\n",
    "\n",
    "stacking_model = StackingClassifier(\n",
    "    estimators=[\n",
    "        ('knn', knn),\n",
    "        ('rf', rf),\n",
    "        ('nb', nb)\n",
    "    ],\n",
    "    final_estimator=meta_model,\n",
    "    cv=5\n",
    ")\n",
    "\n",
    "\n",
    "cv = StratifiedKFold(n_splits=5)\n",
    "scores = cross_val_score(stacking_model, X_resampled, y_resampled, cv=cv, scoring='accuracy')\n",
    "y_pred = stacking_model.fit(X_resampled, y_resampled).predict(X_resampled)\n",
    "\n",
    "\n",
    "precision = precision_score(y_resampled, y_pred)\n",
    "recall = recall_score(y_resampled, y_pred)\n",
    "f1 = f1_score(y_resampled, y_pred)\n",
    "roc_auc = roc_auc_score(y_resampled, y_pred)\n",
    "conf_matrix = confusion_matrix(y_resampled, y_pred)\n",
    "\n",
    "\n",
    "print(\"Stacked Ensemble\")\n",
    "print(\"Stacking Mean accuracy score:\", np.mean(scores))\n",
    "print(\"Precision:\", precision)\n",
    "print(\"Recall:\", recall)\n",
    "print(\"F1 Score:\", f1)\n"
   ]
  }
 ],
 "metadata": {
  "kernelspec": {
   "display_name": ".venv",
   "language": "python",
   "name": "python3"
  },
  "language_info": {
   "codemirror_mode": {
    "name": "ipython",
    "version": 3
   },
   "file_extension": ".py",
   "mimetype": "text/x-python",
   "name": "python",
   "nbconvert_exporter": "python",
   "pygments_lexer": "ipython3",
   "version": "3.11.9"
  }
 },
 "nbformat": 4,
 "nbformat_minor": 2
}
